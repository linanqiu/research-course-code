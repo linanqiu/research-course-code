{
 "cells": [
  {
   "cell_type": "code",
   "execution_count": 1,
   "metadata": {
    "collapsed": true
   },
   "outputs": [],
   "source": [
    "%matplotlib inline\n",
    "\n",
    "import cPickle as pickle\n",
    "import matplotlib.pyplot as plt\n",
    "plt.style.use('ggplot')\n",
    "\n",
    "from w2v.w2v import *"
   ]
  },
  {
   "cell_type": "code",
   "execution_count": 2,
   "metadata": {
    "collapsed": false
   },
   "outputs": [],
   "source": [
    "original_model = model_from_saved(\"./models/corpus-original-w2v.mdl\", binary=True)\n",
    "substituted_model = model_from_saved(\"./models/corpus-substituted-w2v.mdl\", binary=True)\n",
    "\n",
    "corpus_original = pickle.load(open('corpus-original.pkl', 'rb'))\n",
    "corpus_substituted = pickle.load(open('corpus-substituted.pkl', 'rb'))"
   ]
  },
  {
   "cell_type": "code",
   "execution_count": 3,
   "metadata": {
    "collapsed": true
   },
   "outputs": [],
   "source": [
    "substitute_key = pickle.load(open('substitute-key.pkl', 'rb'))\n",
    "vocabs = pickle.load(open('vocabs-compared.pkl', 'rb'))"
   ]
  },
  {
   "cell_type": "code",
   "execution_count": 4,
   "metadata": {
    "collapsed": false
   },
   "outputs": [
    {
     "name": "stdout",
     "output_type": "stream",
     "text": [
      "{u'stake': u'credit', u'office': u'california', u'show': u'state', u'september': u'chicago', u'dollar': u'drop', u'trade': u'8', u'london': u'system', u'committee': u'home', u'japan': u'takeover', u'issues': u'association', u'cut': u'country', u'system': u'him', u'former': u'san', u'bush': u'dow', u'production': u'union', u'systems': u'point', u'treasury': u'index', u'policy': u'economic', u'8': u'foreign', u'street': u'bill', u'bonds': u'show', u'bid': u'monday', u'him': u'dollar', u'association': u'fiscal', u'notes': u'debt', u'drop': u'administration', u'she': u'funds', u'house': u'production', u'japanese': u'offering', u'computer': u'tax', u'home': u'west', u'insurance': u'traders', u'index': u'computer', u'monday': u'agency', u'chicago': u'rates', u'research': u'notes', u'state': u'fund', u'firms': u'former', u'issue': u'court', u'august': u'life', u'power': u'demand', u'city': u'my', u'friday': u'bid', u'takeover': u'volume', u'california': u'program', u'news': u'she', u'debt': u'bush', u'loans': u'news', u'country': u'issues', u'losses': u'august', u'british': u'congress', u'foreign': u'case', u'credit': u'decline', u'economic': u'oil', u'industrial': u'power', u'point': u'losses', u'wall': u'research', u'third-quarter': u'economy', u'decline': u'japanese', u'law': u'assets', u'her': u'friday', u'union': u'systems', u'west': u'issue', u'due': u'committee', u'program': u'firms', u'rates': u'london', u'fiscal': u'annual', u'life': u'growth', u'selling': u'third-quarter', u'offering': u'due', u'funds': u'treasury', u'volume': u'points', u'fund': u'buying', u'gain': u'banks', u'demand': u'nov.', u'analyst': u'wall', u'buying': u'analyst', u'case': u'contract', u'nov.': u'trade', u'bill': u'japan', u'growth': u'stocks', u'my': u'selling', u'annual': u'british', u'san': u'gain', u'tax': u'cut', u'contract': u'loans', u'court': u'stake', u'agency': u'september', u'administration': u'bonds', u'traders': u'city', u'department': u'house', u'economy': u'office', u'oil': u'street', u'congress': u'her', u'stocks': u'law', u'jones': u'department', u'assets': u'industrial', u'points': u'insurance', u'banks': u'policy', u'dow': u'jones'}\n"
     ]
    }
   ],
   "source": [
    "print(substitute_key)"
   ]
  },
  {
   "cell_type": "code",
   "execution_count": 5,
   "metadata": {
    "collapsed": false
   },
   "outputs": [],
   "source": [
    "def same_meaning(substituted, original, word, n):\n",
    "    return len(same_meaning_words(substituted, original, word, n))\n",
    "\n",
    "\n",
    "def same_meaning_words(substituted, original, word, n):\n",
    "    similar_substituted = set((word[0]) for word in substituted.most_similar(word, topn=n))\n",
    "    similar_original = set((word[0]) for word in original.most_similar(word, topn=n))\n",
    "    intersection = similar_substituted & similar_original\n",
    "    difference_substituted = set(similar_substituted) - set(similar_original)\n",
    "    print('##present in substituted but not original\\n')\n",
    "    print(difference_substituted)\n",
    "    difference_original = set(similar_original) - set(similar_substituted)\n",
    "    print('\\n##present in original but not substituted\\n')\n",
    "    print(difference_original)\n",
    "    return intersection\n",
    "\n",
    "def check_substitution(substituted_model, original_model, substituted_word, original_word, n):\n",
    "    similar_substituted = set((word[0]) for word in substituted_model.most_similar(substituted_word, topn=n))\n",
    "    similar_original = set((word[0]) for word in original_model.most_similar(original_word, topn=n))\n",
    "    intersection = similar_substituted & similar_original\n",
    "    return len(intersection)"
   ]
  },
  {
   "cell_type": "code",
   "execution_count": 6,
   "metadata": {
    "collapsed": false
   },
   "outputs": [
    {
     "data": {
      "text/plain": [
       "385"
      ]
     },
     "execution_count": 6,
     "metadata": {},
     "output_type": "execute_result"
    }
   ],
   "source": [
    "check_substitution(substituted_model, original_model, 'credit', 'stake', 500)"
   ]
  },
  {
   "cell_type": "code",
   "execution_count": 7,
   "metadata": {
    "collapsed": false
   },
   "outputs": [
    {
     "data": {
      "text/plain": [
       "31"
      ]
     },
     "execution_count": 7,
     "metadata": {},
     "output_type": "execute_result"
    }
   ],
   "source": [
    "check_substitution(substituted_model, original_model, 'credit', 'california', 500)"
   ]
  },
  {
   "cell_type": "code",
   "execution_count": 8,
   "metadata": {
    "collapsed": false
   },
   "outputs": [
    {
     "data": {
      "image/png": "[encoded data removed]",
      "text/plain": [
       "<matplotlib.figure.Figure at 0x12687f350>"
      ]
     },
     "metadata": {},
     "output_type": "display_data"
    }
   ],
   "source": [
    "codewords = sorted(vocabs, key=vocabs.get)\n",
    "positive = 0\n",
    "false_positive = 0\n",
    "count = 1\n",
    "results = {}\n",
    "\n",
    "for word in codewords:\n",
    "    if word in substitute_key:\n",
    "        positive += 1\n",
    "    else:\n",
    "        false_positive += 1\n",
    "    results[count] = {'count': count, 'positive': positive, 'false_positive': false_positive, 'false_negative': len(substitute_key) - positive}\n",
    "    count += 1\n",
    "\n",
    "import pandas as pd\n",
    "import matplotlib\n",
    "import matplotlib.pyplot as plot\n",
    "matplotlib.style.use('ggplot')\n",
    "\n",
    "# distribution of comparison counts\n",
    "plot.hist(vocabs.values(), bins=100)\n",
    "plot.show()"
   ]
  },
  {
   "cell_type": "code",
   "execution_count": 9,
   "metadata": {
    "collapsed": false
   },
   "outputs": [
    {
     "data": {
      "image/png": "[encoded data removed]",
      "text/plain": [
       "<matplotlib.figure.Figure at 0x126d56dd0>"
      ]
     },
     "metadata": {},
     "output_type": "display_data"
    }
   ],
   "source": [
    "dataframe = pd.DataFrame.from_dict(results, orient='index')\n",
    "dataframe.plot(x='count', y=['positive', 'false_positive', 'false_negative'], xlim=[0, 200], ylim=[0, 100])\n",
    "plot.show()"
   ]
  },
  {
   "cell_type": "code",
   "execution_count": 12,
   "metadata": {
    "collapsed": false
   },
   "outputs": [],
   "source": [
    "codeword_count = len(substitute_key)"
   ]
  },
  {
   "cell_type": "code",
   "execution_count": 20,
   "metadata": {
    "collapsed": false
   },
   "outputs": [
    {
     "name": "stdout",
     "output_type": "stream",
     "text": [
      "{u'precise': u'loans', u'stake': u'credit', u'office': u'california', u'show': u'state', u'september': u'chicago', u'dollar': u'drop', u'trade': u'8', u'london': u'system', u'committee': u'home', u'japan': u'takeover', u'issues': u'association', u'cut': u'country', u'system': u'him', u'analyst': u'wall', u'bush': u'dow', u'program': u'firms', u'systems': u'point', u'treasury': u'index', u'policy': u'economic', u'8': u'foreign', u'street': u'bill', u'bid': u'monday', u'him': u'dollar', u'association': u'fiscal', u'notes': u'debt', u'drop': u'administration', u'she': u'funds', u'house': u'production', u'japanese': u'offering', u'economic': u'oil', u'home': u'west', u'insurance': u'traders', u'index': u'computer', u'congress': u'her', u'chicago': u'rates', u'research': u'notes', u'state': u'fund', u'firms': u'former', u'dating': u'friday', u'issue': u'court', u'august': u'life', u'power': u'demand', u'friday': u'bid', u'takeover': u'volume', u'california': u'program', u'news': u'she', u'debt': u'bush', u'loans': u'news', u'losses': u'august', u'contract': u'loans', u'foreign': u'case', u'credit': u'decline', u'industrial': u'power', u'peculiar': u'friday', u'point': u'losses', u'wall': u'research', u'third-quarter': u'economy', u'nursing': u'west', u'city': u'my', u'law': u'assets', u'her': u'friday', u'union': u'systems', u'west': u'issue', u'due': u'committee', u'production': u'union', u'rates': u'london', u'fiscal': u'annual', u'life': u'growth', u'selling': u'third-quarter', u'growth': u'stocks', u'funds': u'treasury', u'volume': u'points', u'fund': u'buying', u'gain': u'banks', u'demand': u'nov.', u'former': u'san', u'buying': u'analyst', u'case': u'contract', u'nov.': u'trade', u'bill': u'japan', u'computer': u'tax', u'my': u'selling', u'annual': u'british', u'san': u'gain', u'tax': u'cut', u'british': u'congress', u'court': u'stake', u'agency': u'september', u'administration': u'bonds', u'traders': u'city', u'department': u'house', u'economy': u'office', u'oil': u'street', u'monday': u'agency', u'stocks': u'law', u'jones': u'department', u'assets': u'industrial', u'honestly': u'selling', u'banks': u'policy', u'dow': u'jones'}\n"
     ]
    }
   ],
   "source": [
    "substitution_recovered = {}\n",
    "\n",
    "for original_word in codewords[:codeword_count]:\n",
    "    iter_count += 1\n",
    "    \n",
    "    max_count = 0\n",
    "    max_substitute = \"\"\n",
    "    for substitute_word in substitute_key.keys():\n",
    "        \n",
    "        count = check_substitution(substituted_model, original_model, substitute_word, original_word, 500)\n",
    "        if(count > max_count):\n",
    "            max_count = count\n",
    "            max_substitute = substitute_word\n",
    "    \n",
    "    substitution_recovered[original_word] = max_substitute\n",
    "\n",
    "print(substitution_recovered)"
   ]
  },
  {
   "cell_type": "code",
   "execution_count": 32,
   "metadata": {
    "collapsed": false
   },
   "outputs": [
    {
     "data": {
      "text/plain": [
       "95"
      ]
     },
     "execution_count": 32,
     "metadata": {},
     "output_type": "execute_result"
    }
   ],
   "source": [
    "# precision = number of correct pairings out of constructed pairings\n",
    "\n",
    "precision = 0\n",
    "for original, substitute in substitution_recovered.iteritems():\n",
    "    if original in substitute_key and substitute == substitute_key[original]:\n",
    "        precision += 1\n",
    "\n",
    "precision"
   ]
  },
  {
   "cell_type": "code",
   "execution_count": 34,
   "metadata": {
    "collapsed": false
   },
   "outputs": [
    {
     "data": {
      "text/plain": [
       "95"
      ]
     },
     "execution_count": 34,
     "metadata": {},
     "output_type": "execute_result"
    }
   ],
   "source": [
    "# recall = number of correct pairings out of original pairings\n",
    "\n",
    "recall = 0\n",
    "for original, substitute in substitute_key.iteritems():\n",
    "    if original in substitution_recovered and substitute == substitution_recovered[original]:\n",
    "        recall += 1\n",
    "        \n",
    "recall"
   ]
  }
 ],
 "metadata": {
  "kernelspec": {
   "display_name": "Python 2",
   "language": "python",
   "name": "python2"
  },
  "language_info": {
   "codemirror_mode": {
    "name": "ipython",
    "version": 2
   },
   "file_extension": ".py",
   "mimetype": "text/x-python",
   "name": "python",
   "nbconvert_exporter": "python",
   "pygments_lexer": "ipython2",
   "version": "2.7.9"
  }
 },
 "nbformat": 4,
 "nbformat_minor": 0
}
