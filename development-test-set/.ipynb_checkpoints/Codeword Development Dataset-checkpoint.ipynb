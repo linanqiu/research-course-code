{
 "cells": [
  {
   "cell_type": "markdown",
   "metadata": {},
   "source": [
    "Done by Linan Qiu [(github.com/linanqiu)](https://github.com/linanqiu) for TextIQ"
   ]
  },
  {
   "cell_type": "markdown",
   "metadata": {},
   "source": [
    "In this notebook, we generate a development / test dataset for the codeword detection problem.\n",
    "\n",
    "The codeword detection problem can be framed as the following: \n",
    "\n",
    "- A codeword is a word that is used in a different context from its usual context. (eg. using `cheeseburger` to denote `equities` in an email between equities traders)\n",
    "- Given a corpus containing codewords (**codeword corpus**) and a reference corpus not containing codewords (**reference corpus**), find codewords in the codeword corpus.\n",
    "\n",
    "As far as the author knows, no dataset specifically containing a known list of codewords exist. Hence, a synthetic dataset is needed to facilitate experiments for this problem.\n",
    "\n",
    "# Approach Overview\n",
    "\n",
    "To generate a synthetic codeword corpus, we do the following steps\n",
    "\n",
    "1. Get a reference corpus containing little to no codewords\n",
    "2. Select $|\\mathbf{x}|$ words as codewords. Denote this set as $\\mathbf{x}$ where each $x_i$ is a codeword\n",
    "3. Generate a set $\\mathbf{y}$ where each $y_i = x_j | j \\neq i$ ie. each word in $\\mathbf{y}$ maps to a random word in $\\mathbf{x}$ that is not the same as itself\n",
    "4. Generate a codeword corpus by replacing every $x_i$ in reference corpus with $y_i$ (which will not be the same as $x_i$)\n",
    "\n",
    "Then, to verify a detection method's validity, we can\n",
    "\n",
    "1. Provide the detector both corpuses (codeword and reference)\n",
    "2. Make detector find codewords in codeword corpus\n",
    "3. Compare against $\\mathbf{y}$ for retrieval rate\n",
    "\n",
    "However, this still leaves some questions open, including what reference corpus to choose, how adequate words can be chosen as codeword candidates, and how a baseline for codeword detection can be made. This will be addressed along the way."
   ]
  },
  {
   "cell_type": "markdown",
   "metadata": {},
   "source": [
    "First we get some hygiene `python` stuff out of the way and make our graphs pretty."
   ]
  },
  {
   "cell_type": "code",
   "execution_count": 9,
   "metadata": {
    "collapsed": false
   },
   "outputs": [],
   "source": [
    "%matplotlib inline\n",
    "\n",
    "import cPickle as pickle\n",
    "import matplotlib.pyplot as plt\n",
    "plt.style.use('ggplot')\n",
    "%config InlineBackend.figure_format = 'svg'"
   ]
  },
  {
   "cell_type": "markdown",
   "metadata": {},
   "source": [
    "# Synthetic Codeword Corpus Creation\n",
    "\n",
    "## Reference Corpus Choice\n",
    "\n",
    "We choose the WSJ Corpus from the PennTreebank to be the reference corpus due to the similarity in the content of the text and the data of potential TextIQ clients.\n",
    "\n",
    "A helper function is made in `lib.corpus_parser` to use `nltk` to parse the WSJ corpus. Tip to future replications: use a symlink to link `LDC99T42-Treebank-3/package/treebank_3/parsed/mrg/wsj` and `LDC99T42-Treebank-3/package/treebank_3/parsed/mrg/brown` to `~/nltk_data/corpora/ptb/wsj` and `~/nltk_data/corpora/ptb/brown` so that `nltk` can parse the WSJ corpus directly."
   ]
  },
  {
   "cell_type": "code",
   "execution_count": 3,
   "metadata": {
    "collapsed": false
   },
   "outputs": [
    {
     "name": "stderr",
     "output_type": "stream",
     "text": [
      "INFO:__main__.py:running /Users/linanqiu/.virtualenv/default/lib/python2.7/site-packages/ipykernel/__main__.py -f /Users/linanqiu/Library/Jupyter/runtime/kernel-d03d9f15-02fd-4744-b15f-6653e29b54fb.json\n"
     ]
    },
    {
     "ename": "IOError",
     "evalue": "[Errno 2] No such file or directory: '../data/reddit/comments.csv'",
     "output_type": "error",
     "traceback": [
      "\u001b[0;31m---------------------------------------------------------------------------\u001b[0m",
      "\u001b[0;31mIOError\u001b[0m                                   Traceback (most recent call last)",
      "\u001b[0;32m<ipython-input-3-4c8a0bba4080>\u001b[0m in \u001b[0;36m<module>\u001b[0;34m()\u001b[0m\n\u001b[1;32m      1\u001b[0m \u001b[0;31m# reads wsj corpus and saves all lines to all-lines.pkl\u001b[0m\u001b[0;34m\u001b[0m\u001b[0;34m\u001b[0m\u001b[0m\n\u001b[0;32m----> 2\u001b[0;31m \u001b[0;32mfrom\u001b[0m \u001b[0mlib\u001b[0m\u001b[0;34m.\u001b[0m\u001b[0mcorpus_parser\u001b[0m \u001b[0;32mimport\u001b[0m \u001b[0;34m*\u001b[0m\u001b[0;34m\u001b[0m\u001b[0m\n\u001b[0m\u001b[1;32m      3\u001b[0m \u001b[0;34m\u001b[0m\u001b[0m\n\u001b[1;32m      4\u001b[0m \u001b[0mall_lines\u001b[0m \u001b[0;34m=\u001b[0m \u001b[0mparse_wsj\u001b[0m\u001b[0;34m(\u001b[0m\u001b[0;34m)\u001b[0m\u001b[0;34m\u001b[0m\u001b[0m\n\u001b[1;32m      5\u001b[0m \u001b[0mpickle\u001b[0m\u001b[0;34m.\u001b[0m\u001b[0mdump\u001b[0m\u001b[0;34m(\u001b[0m\u001b[0mall_lines\u001b[0m\u001b[0;34m,\u001b[0m \u001b[0mopen\u001b[0m\u001b[0;34m(\u001b[0m\u001b[0;34m'all-lines.pkl'\u001b[0m\u001b[0;34m,\u001b[0m \u001b[0;34m'wb'\u001b[0m\u001b[0;34m)\u001b[0m\u001b[0;34m)\u001b[0m\u001b[0;34m\u001b[0m\u001b[0m\n",
      "\u001b[0;32m/Users/linanqiu/Desktop/textiq/development-test-set/lib/corpus_parser.py\u001b[0m in \u001b[0;36m<module>\u001b[0;34m()\u001b[0m\n\u001b[1;32m    156\u001b[0m \u001b[0;34m\u001b[0m\u001b[0m\n\u001b[1;32m    157\u001b[0m \u001b[0;34m\u001b[0m\u001b[0m\n\u001b[0;32m--> 158\u001b[0;31m \u001b[0mparse_reddit\u001b[0m\u001b[0;34m(\u001b[0m\u001b[0;34m)\u001b[0m\u001b[0;34m\u001b[0m\u001b[0m\n\u001b[0m\u001b[1;32m    159\u001b[0m \u001b[0;34m\u001b[0m\u001b[0m\n\u001b[1;32m    160\u001b[0m \u001b[0;31m# logger.info('Begin Parsing NYT')\u001b[0m\u001b[0;34m\u001b[0m\u001b[0;34m\u001b[0m\u001b[0m\n",
      "\u001b[0;32m/Users/linanqiu/Desktop/textiq/development-test-set/lib/corpus_parser.py\u001b[0m in \u001b[0;36mparse_reddit\u001b[0;34m()\u001b[0m\n\u001b[1;32m    139\u001b[0m     \u001b[0mpattern\u001b[0m \u001b[0;34m=\u001b[0m \u001b[0mre\u001b[0m\u001b[0;34m.\u001b[0m\u001b[0mcompile\u001b[0m\u001b[0;34m(\u001b[0m\u001b[0;34m'[^\\s\\w]+'\u001b[0m\u001b[0;34m)\u001b[0m\u001b[0;34m\u001b[0m\u001b[0m\n\u001b[1;32m    140\u001b[0m \u001b[0;34m\u001b[0m\u001b[0m\n\u001b[0;32m--> 141\u001b[0;31m     \u001b[0;32mwith\u001b[0m \u001b[0mopen\u001b[0m\u001b[0;34m(\u001b[0m\u001b[0mcomments_file\u001b[0m\u001b[0;34m,\u001b[0m \u001b[0;34m'rb'\u001b[0m\u001b[0;34m)\u001b[0m \u001b[0;32mas\u001b[0m \u001b[0mcsv_file\u001b[0m\u001b[0;34m:\u001b[0m\u001b[0;34m\u001b[0m\u001b[0m\n\u001b[0m\u001b[1;32m    142\u001b[0m         \u001b[0mreader\u001b[0m \u001b[0;34m=\u001b[0m \u001b[0mcsv\u001b[0m\u001b[0;34m.\u001b[0m\u001b[0mreader\u001b[0m\u001b[0;34m(\u001b[0m\u001b[0mcsv_file\u001b[0m\u001b[0;34m)\u001b[0m\u001b[0;34m\u001b[0m\u001b[0m\n\u001b[1;32m    143\u001b[0m         \u001b[0;32mfor\u001b[0m \u001b[0mrow\u001b[0m \u001b[0;32min\u001b[0m \u001b[0mreader\u001b[0m\u001b[0;34m:\u001b[0m\u001b[0;34m\u001b[0m\u001b[0m\n",
      "\u001b[0;31mIOError\u001b[0m: [Errno 2] No such file or directory: '../data/reddit/comments.csv'"
     ]
    }
   ],
   "source": [
    "# reads wsj corpus and saves all lines to all-lines.pkl\n",
    "from lib.corpus_parser import *\n",
    "\n",
    "all_lines = parse_wsj()\n",
    "pickle.dump(all_lines, open('all-lines.pkl', 'wb'))"
   ]
  },
  {
   "cell_type": "markdown",
   "metadata": {},
   "source": [
    "## Codeword Selection\n",
    "\n",
    "We need a way to select $|\\mathbf{x}|$ codewords (in this case, $|\\mathbf{x}| = 100$ an arbitrary number base on intuition about the size of the corpus and usage patterns.)\n",
    "\n",
    "### TF-IDF\n",
    "\n",
    "A naive way to do this would be TF-IDF as was initially used where\n",
    "\n",
    "- $T_{x_i}$ is the number of times word $x_i$ appeared in the entire corpus\n",
    "- $D_{x_i}$ is the number of documents $x_i$ appeared in the entire corpus\n",
    "- $N_D$ is the number of documents in the entire corpus ie.\n",
    "- $\\mathrm{Rank}_{x_i} = \\mathrm{TFIDF}_{x_i} = \\left(\\log{(T_{x_i}} + 1\\right) * \\left(\\log{(1 + N_D / D_{x_i})} \\right)$ where the left term is the term frequency smoothed such that 0s won't occur, and the right term is the inverse document frequency.\n",
    "\n",
    "We select the top $|\\mathbf{x}|$ words. The intuition behind this method was to downweight terms that appeared in every document (such as \"the\", \"a\", \"he\"), and upweight rarer terms.\n",
    "\n",
    "However, this method was disappointing since it upweighted rare terms too much. In particular, note that the inverse document frequency portion of $\\mathrm{TFIDF}$ is a decreasing function. That means words appearing only 1 time is upweighted the most. Hence, a lot of names and esoteric words that only occur once were selected. The top words consisted of \"yeargin\", \"steinhardt\", \"corry\", \"psyllium\". We needed an alternative method that downweighted very frequent words, upweighted rarer words, but also **downweighted extremely rare words**.\n",
    "\n",
    "### Gamma Distribution\n",
    "\n",
    "A good way to do this was to use a Gamma distribution instead of the inverse document frequency measure. That means\n",
    "\n",
    "$\\mathrm{Rank}_{x_i} = \\left(\\log{(T_{x_i}} + 1\\right) * \\left(g(D_{x_i})\\right)$ where $g(y)$ is the Gamma distribution function fitted on a given $\\alpha$ and $\\beta$. Specifically, we can set $\\alpha$ and $\\beta$ such that the mode of the distribution is a certain proportion of documents (ie. this is the proportion of documents that \"important words\" should belong in) and the mean to be 2 times of that. Choosing $\\mathrm{Mode} = 0.075 * N_D = (\\alpha-1)*\\beta$ and hence $\\mathrm{Mean} = 0.15 * D = \\alpha * \\beta$, we make the assumption that important words should be present in around 7.5% to 15% of articles.\n",
    "\n",
    "This Gamma distribution could would like this:"
   ]
  },
  {
   "cell_type": "code",
   "execution_count": 10,
   "metadata": {
    "collapsed": false
   },
   "outputs": [
    {
     "data": {
      "image/svg+xml": [
       "<?xml version=\"1.0\" encoding=\"utf-8\" standalone=\"no\"?>\n",
       "<!DOCTYPE svg PUBLIC \"-//W3C//DTD SVG 1.1//EN\"\n",
       "  \"http://www.w3.org/Graphics/SVG/1.1/DTD/svg11.dtd\">\n",
       "<!-- Created with matplotlib (http://matplotlib.org/) -->\n",
       "<svg height=\"260pt\" version=\"1.1\" viewBox=\"0 0 424 260\" width=\"424pt\" xmlns=\"http://www.w3.org/2000/svg\" xmlns:xlink=\"http://www.w3.org/1999/xlink\">\n",
       " <defs>\n",
       "  <style type=\"text/css\">\n",
       "*{stroke-linecap:butt;stroke-linejoin:round;stroke-miterlimit:100000;}\n",
       "  </style>\n",
       " </defs>\n",
       " <g id=\"figure_1\">\n",
       "  <g id=\"patch_1\">\n",
       "   <path d=\"M 0 260.117188 \n",
       "L 424.003125 260.117188 \n",
       "L 424.003125 0 \n",
       "L 0 0 \n",
       "z\n",
       "\" style=\"fill:#ffffff;\"/>\n",
       "  </g>\n",
       "  <g id=\"axes_1\">\n",
       "   <g id=\"patch_2\">\n",
       "    <path d=\"M 62.915625 235.239062 \n",
       "L 397.715625 235.239062 \n",
       "L 397.715625 12.039062 \n",
       "L 62.915625 12.039062 \n",
       "z\n",
       "\" style=\"fill:#e5e5e5;\"/>\n",
       "   </g>\n",
       "   <g id=\"matplotlib.axis_1\">\n",
       "    <g id=\"xtick_1\">\n",
       "     <g id=\"line2d_1\">\n",
       "      <path clip-path=\"url(#p1b1be9e1a8)\" d=\"M 62.915625 235.239062 \n",
       "L 62.915625 12.039062 \n",
       "\" style=\"fill:none;stroke:#ffffff;stroke-linecap:square;stroke-width:0.5;\"/>\n",
       "     </g>\n",
       "     <g id=\"line2d_2\">\n",
       "      <defs>\n",
       "       <path d=\"M 0 0 \n",
       "L 0 4 \n",
       "\" id=\"m7546775d75\" style=\"stroke:#555555;stroke-width:0.5;\"/>\n",
       "      </defs>\n",
       "      <g>\n",
       "       <use style=\"fill:#555555;stroke:#555555;stroke-width:0.5;\" x=\"62.915625\" xlink:href=\"#m7546775d75\" y=\"235.2390625\"/>\n",
       "      </g>\n",
       "     </g>\n",
       "     <g id=\"line2d_3\">\n",
       "      <defs>\n",
       "       <path d=\"M 0 0 \n",
       "L 0 -4 \n",
       "\" id=\"md239ce80d4\" style=\"stroke:#555555;stroke-width:0.5;\"/>\n",
       "      </defs>\n",
       "      <g>\n",
       "       <use style=\"fill:#555555;stroke:#555555;stroke-width:0.5;\" x=\"62.915625\" xlink:href=\"#md239ce80d4\" y=\"12.0390625\"/>\n",
       "      </g>\n",
       "     </g>\n",
       "     <g id=\"text_1\">\n",
       "      <!-- 0 -->\n",
       "      <defs>\n",
       "       <path d=\"M 31.78125 66.40625 \n",
       "Q 24.171875 66.40625 20.328125 58.90625 \n",
       "Q 16.5 51.421875 16.5 36.375 \n",
       "Q 16.5 21.390625 20.328125 13.890625 \n",
       "Q 24.171875 6.390625 31.78125 6.390625 \n",
       "Q 39.453125 6.390625 43.28125 13.890625 \n",
       "Q 47.125 21.390625 47.125 36.375 \n",
       "Q 47.125 51.421875 43.28125 58.90625 \n",
       "Q 39.453125 66.40625 31.78125 66.40625 \n",
       "M 31.78125 74.21875 \n",
       "Q 44.046875 74.21875 50.515625 64.515625 \n",
       "Q 56.984375 54.828125 56.984375 36.375 \n",
       "Q 56.984375 17.96875 50.515625 8.265625 \n",
       "Q 44.046875 -1.421875 31.78125 -1.421875 \n",
       "Q 19.53125 -1.421875 13.0625 8.265625 \n",
       "Q 6.59375 17.96875 6.59375 36.375 \n",
       "Q 6.59375 54.828125 13.0625 64.515625 \n",
       "Q 19.53125 74.21875 31.78125 74.21875 \n",
       "\" id=\"BitstreamVeraSans-Roman-30\"/>\n",
       "      </defs>\n",
       "      <g style=\"fill:#555555;\" transform=\"translate(59.734375 250.8375)scale(0.1 -0.1)\">\n",
       "       <use xlink:href=\"#BitstreamVeraSans-Roman-30\"/>\n",
       "      </g>\n",
       "     </g>\n",
       "    </g>\n",
       "    <g id=\"xtick_2\">\n",
       "     <g id=\"line2d_4\">\n",
       "      <path clip-path=\"url(#p1b1be9e1a8)\" d=\"M 129.875625 235.239062 \n",
       "L 129.875625 12.039062 \n",
       "\" style=\"fill:none;stroke:#ffffff;stroke-linecap:square;stroke-width:0.5;\"/>\n",
       "     </g>\n",
       "     <g id=\"line2d_5\">\n",
       "      <g>\n",
       "       <use style=\"fill:#555555;stroke:#555555;stroke-width:0.5;\" x=\"129.875625\" xlink:href=\"#m7546775d75\" y=\"235.2390625\"/>\n",
       "      </g>\n",
       "     </g>\n",
       "     <g id=\"line2d_6\">\n",
       "      <g>\n",
       "       <use style=\"fill:#555555;stroke:#555555;stroke-width:0.5;\" x=\"129.875625\" xlink:href=\"#md239ce80d4\" y=\"12.0390625\"/>\n",
       "      </g>\n",
       "     </g>\n",
       "     <g id=\"text_2\">\n",
       "      <!-- 50000 -->\n",
       "      <defs>\n",
       "       <path d=\"M 10.796875 72.90625 \n",
       "L 49.515625 72.90625 \n",
       "L 49.515625 64.59375 \n",
       "L 19.828125 64.59375 \n",
       "L 19.828125 46.734375 \n",
       "Q 21.96875 47.46875 24.109375 47.828125 \n",
       "Q 26.265625 48.1875 28.421875 48.1875 \n",
       "Q 40.625 48.1875 47.75 41.5 \n",
       "Q 54.890625 34.8125 54.890625 23.390625 \n",
       "Q 54.890625 11.625 47.5625 5.09375 \n",
       "Q 40.234375 -1.421875 26.90625 -1.421875 \n",
       "Q 22.3125 -1.421875 17.546875 -0.640625 \n",
       "Q 12.796875 0.140625 7.71875 1.703125 \n",
       "L 7.71875 11.625 \n",
       "Q 12.109375 9.234375 16.796875 8.0625 \n",
       "Q 21.484375 6.890625 26.703125 6.890625 \n",
       "Q 35.15625 6.890625 40.078125 11.328125 \n",
       "Q 45.015625 15.765625 45.015625 23.390625 \n",
       "Q 45.015625 31 40.078125 35.4375 \n",
       "Q 35.15625 39.890625 26.703125 39.890625 \n",
       "Q 22.75 39.890625 18.8125 39.015625 \n",
       "Q 14.890625 38.140625 10.796875 36.28125 \n",
       "z\n",
       "\" id=\"BitstreamVeraSans-Roman-35\"/>\n",
       "      </defs>\n",
       "      <g style=\"fill:#555555;\" transform=\"translate(113.969375 250.8375)scale(0.1 -0.1)\">\n",
       "       <use xlink:href=\"#BitstreamVeraSans-Roman-35\"/>\n",
       "       <use x=\"63.623046875\" xlink:href=\"#BitstreamVeraSans-Roman-30\"/>\n",
       "       <use x=\"127.24609375\" xlink:href=\"#BitstreamVeraSans-Roman-30\"/>\n",
       "       <use x=\"190.869140625\" xlink:href=\"#BitstreamVeraSans-Roman-30\"/>\n",
       "       <use x=\"254.4921875\" xlink:href=\"#BitstreamVeraSans-Roman-30\"/>\n",
       "      </g>\n",
       "     </g>\n",
       "    </g>\n",
       "    <g id=\"xtick_3\">\n",
       "     <g id=\"line2d_7\">\n",
       "      <path clip-path=\"url(#p1b1be9e1a8)\" d=\"M 196.835625 235.239062 \n",
       "L 196.835625 12.039062 \n",
       "\" style=\"fill:none;stroke:#ffffff;stroke-linecap:square;stroke-width:0.5;\"/>\n",
       "     </g>\n",
       "     <g id=\"line2d_8\">\n",
       "      <g>\n",
       "       <use style=\"fill:#555555;stroke:#555555;stroke-width:0.5;\" x=\"196.835625\" xlink:href=\"#m7546775d75\" y=\"235.2390625\"/>\n",
       "      </g>\n",
       "     </g>\n",
       "     <g id=\"line2d_9\">\n",
       "      <g>\n",
       "       <use style=\"fill:#555555;stroke:#555555;stroke-width:0.5;\" x=\"196.835625\" xlink:href=\"#md239ce80d4\" y=\"12.0390625\"/>\n",
       "      </g>\n",
       "     </g>\n",
       "     <g id=\"text_3\">\n",
       "      <!-- 100000 -->\n",
       "      <defs>\n",
       "       <path d=\"M 12.40625 8.296875 \n",
       "L 28.515625 8.296875 \n",
       "L 28.515625 63.921875 \n",
       "L 10.984375 60.40625 \n",
       "L 10.984375 69.390625 \n",
       "L 28.421875 72.90625 \n",
       "L 38.28125 72.90625 \n",
       "L 38.28125 8.296875 \n",
       "L 54.390625 8.296875 \n",
       "L 54.390625 0 \n",
       "L 12.40625 0 \n",
       "z\n",
       "\" id=\"BitstreamVeraSans-Roman-31\"/>\n",
       "      </defs>\n",
       "      <g style=\"fill:#555555;\" transform=\"translate(177.748125 250.8375)scale(0.1 -0.1)\">\n",
       "       <use xlink:href=\"#BitstreamVeraSans-Roman-31\"/>\n",
       "       <use x=\"63.623046875\" xlink:href=\"#BitstreamVeraSans-Roman-30\"/>\n",
       "       <use x=\"127.24609375\" xlink:href=\"#BitstreamVeraSans-Roman-30\"/>\n",
       "       <use x=\"190.869140625\" xlink:href=\"#BitstreamVeraSans-Roman-30\"/>\n",
       "       <use x=\"254.4921875\" xlink:href=\"#BitstreamVeraSans-Roman-30\"/>\n",
       "       <use x=\"318.115234375\" xlink:href=\"#BitstreamVeraSans-Roman-30\"/>\n",
       "      </g>\n",
       "     </g>\n",
       "    </g>\n",
       "    <g id=\"xtick_4\">\n",
       "     <g id=\"line2d_10\">\n",
       "      <path clip-path=\"url(#p1b1be9e1a8)\" d=\"M 263.795625 235.239062 \n",
       "L 263.795625 12.039062 \n",
       "\" style=\"fill:none;stroke:#ffffff;stroke-linecap:square;stroke-width:0.5;\"/>\n",
       "     </g>\n",
       "     <g id=\"line2d_11\">\n",
       "      <g>\n",
       "       <use style=\"fill:#555555;stroke:#555555;stroke-width:0.5;\" x=\"263.795625\" xlink:href=\"#m7546775d75\" y=\"235.2390625\"/>\n",
       "      </g>\n",
       "     </g>\n",
       "     <g id=\"line2d_12\">\n",
       "      <g>\n",
       "       <use style=\"fill:#555555;stroke:#555555;stroke-width:0.5;\" x=\"263.795625\" xlink:href=\"#md239ce80d4\" y=\"12.0390625\"/>\n",
       "      </g>\n",
       "     </g>\n",
       "     <g id=\"text_4\">\n",
       "      <!-- 150000 -->\n",
       "      <g style=\"fill:#555555;\" transform=\"translate(244.708125 250.8375)scale(0.1 -0.1)\">\n",
       "       <use xlink:href=\"#BitstreamVeraSans-Roman-31\"/>\n",
       "       <use x=\"63.623046875\" xlink:href=\"#BitstreamVeraSans-Roman-35\"/>\n",
       "       <use x=\"127.24609375\" xlink:href=\"#BitstreamVeraSans-Roman-30\"/>\n",
       "       <use x=\"190.869140625\" xlink:href=\"#BitstreamVeraSans-Roman-30\"/>\n",
       "       <use x=\"254.4921875\" xlink:href=\"#BitstreamVeraSans-Roman-30\"/>\n",
       "       <use x=\"318.115234375\" xlink:href=\"#BitstreamVeraSans-Roman-30\"/>\n",
       "      </g>\n",
       "     </g>\n",
       "    </g>\n",
       "    <g id=\"xtick_5\">\n",
       "     <g id=\"line2d_13\">\n",
       "      <path clip-path=\"url(#p1b1be9e1a8)\" d=\"M 330.755625 235.239062 \n",
       "L 330.755625 12.039062 \n",
       "\" style=\"fill:none;stroke:#ffffff;stroke-linecap:square;stroke-width:0.5;\"/>\n",
       "     </g>\n",
       "     <g id=\"line2d_14\">\n",
       "      <g>\n",
       "       <use style=\"fill:#555555;stroke:#555555;stroke-width:0.5;\" x=\"330.755625\" xlink:href=\"#m7546775d75\" y=\"235.2390625\"/>\n",
       "      </g>\n",
       "     </g>\n",
       "     <g id=\"line2d_15\">\n",
       "      <g>\n",
       "       <use style=\"fill:#555555;stroke:#555555;stroke-width:0.5;\" x=\"330.755625\" xlink:href=\"#md239ce80d4\" y=\"12.0390625\"/>\n",
       "      </g>\n",
       "     </g>\n",
       "     <g id=\"text_5\">\n",
       "      <!-- 200000 -->\n",
       "      <defs>\n",
       "       <path d=\"M 19.1875 8.296875 \n",
       "L 53.609375 8.296875 \n",
       "L 53.609375 0 \n",
       "L 7.328125 0 \n",
       "L 7.328125 8.296875 \n",
       "Q 12.9375 14.109375 22.625 23.890625 \n",
       "Q 32.328125 33.6875 34.8125 36.53125 \n",
       "Q 39.546875 41.84375 41.421875 45.53125 \n",
       "Q 43.3125 49.21875 43.3125 52.78125 \n",
       "Q 43.3125 58.59375 39.234375 62.25 \n",
       "Q 35.15625 65.921875 28.609375 65.921875 \n",
       "Q 23.96875 65.921875 18.8125 64.3125 \n",
       "Q 13.671875 62.703125 7.8125 59.421875 \n",
       "L 7.8125 69.390625 \n",
       "Q 13.765625 71.78125 18.9375 73 \n",
       "Q 24.125 74.21875 28.421875 74.21875 \n",
       "Q 39.75 74.21875 46.484375 68.546875 \n",
       "Q 53.21875 62.890625 53.21875 53.421875 \n",
       "Q 53.21875 48.921875 51.53125 44.890625 \n",
       "Q 49.859375 40.875 45.40625 35.40625 \n",
       "Q 44.1875 33.984375 37.640625 27.21875 \n",
       "Q 31.109375 20.453125 19.1875 8.296875 \n",
       "\" id=\"BitstreamVeraSans-Roman-32\"/>\n",
       "      </defs>\n",
       "      <g style=\"fill:#555555;\" transform=\"translate(311.668125 250.8375)scale(0.1 -0.1)\">\n",
       "       <use xlink:href=\"#BitstreamVeraSans-Roman-32\"/>\n",
       "       <use x=\"63.623046875\" xlink:href=\"#BitstreamVeraSans-Roman-30\"/>\n",
       "       <use x=\"127.24609375\" xlink:href=\"#BitstreamVeraSans-Roman-30\"/>\n",
       "       <use x=\"190.869140625\" xlink:href=\"#BitstreamVeraSans-Roman-30\"/>\n",
       "       <use x=\"254.4921875\" xlink:href=\"#BitstreamVeraSans-Roman-30\"/>\n",
       "       <use x=\"318.115234375\" xlink:href=\"#BitstreamVeraSans-Roman-30\"/>\n",
       "      </g>\n",
       "     </g>\n",
       "    </g>\n",
       "    <g id=\"xtick_6\">\n",
       "     <g id=\"line2d_16\">\n",
       "      <path clip-path=\"url(#p1b1be9e1a8)\" d=\"M 397.715625 235.239062 \n",
       "L 397.715625 12.039062 \n",
       "\" style=\"fill:none;stroke:#ffffff;stroke-linecap:square;stroke-width:0.5;\"/>\n",
       "     </g>\n",
       "     <g id=\"line2d_17\">\n",
       "      <g>\n",
       "       <use style=\"fill:#555555;stroke:#555555;stroke-width:0.5;\" x=\"397.715625\" xlink:href=\"#m7546775d75\" y=\"235.2390625\"/>\n",
       "      </g>\n",
       "     </g>\n",
       "     <g id=\"line2d_18\">\n",
       "      <g>\n",
       "       <use style=\"fill:#555555;stroke:#555555;stroke-width:0.5;\" x=\"397.715625\" xlink:href=\"#md239ce80d4\" y=\"12.0390625\"/>\n",
       "      </g>\n",
       "     </g>\n",
       "     <g id=\"text_6\">\n",
       "      <!-- 250000 -->\n",
       "      <g style=\"fill:#555555;\" transform=\"translate(378.628125 250.8375)scale(0.1 -0.1)\">\n",
       "       <use xlink:href=\"#BitstreamVeraSans-Roman-32\"/>\n",
       "       <use x=\"63.623046875\" xlink:href=\"#BitstreamVeraSans-Roman-35\"/>\n",
       "       <use x=\"127.24609375\" xlink:href=\"#BitstreamVeraSans-Roman-30\"/>\n",
       "       <use x=\"190.869140625\" xlink:href=\"#BitstreamVeraSans-Roman-30\"/>\n",
       "       <use x=\"254.4921875\" xlink:href=\"#BitstreamVeraSans-Roman-30\"/>\n",
       "       <use x=\"318.115234375\" xlink:href=\"#BitstreamVeraSans-Roman-30\"/>\n",
       "      </g>\n",
       "     </g>\n",
       "    </g>\n",
       "   </g>\n",
       "   <g id=\"matplotlib.axis_2\">\n",
       "    <g id=\"ytick_1\">\n",
       "     <g id=\"line2d_19\">\n",
       "      <path clip-path=\"url(#p1b1be9e1a8)\" d=\"M 62.915625 235.239062 \n",
       "L 397.715625 235.239062 \n",
       "\" style=\"fill:none;stroke:#ffffff;stroke-linecap:square;stroke-width:0.5;\"/>\n",
       "     </g>\n",
       "     <g id=\"line2d_20\">\n",
       "      <defs>\n",
       "       <path d=\"M 0 0 \n",
       "L -4 0 \n",
       "\" id=\"m1e38f7791e\" style=\"stroke:#555555;stroke-width:0.5;\"/>\n",
       "      </defs>\n",
       "      <g>\n",
       "       <use style=\"fill:#555555;stroke:#555555;stroke-width:0.5;\" x=\"62.915625\" xlink:href=\"#m1e38f7791e\" y=\"235.2390625\"/>\n",
       "      </g>\n",
       "     </g>\n",
       "     <g id=\"line2d_21\">\n",
       "      <defs>\n",
       "       <path d=\"M 0 0 \n",
       "L 4 0 \n",
       "\" id=\"mf2449d2c50\" style=\"stroke:#555555;stroke-width:0.5;\"/>\n",
       "      </defs>\n",
       "      <g>\n",
       "       <use style=\"fill:#555555;stroke:#555555;stroke-width:0.5;\" x=\"397.715625\" xlink:href=\"#mf2449d2c50\" y=\"235.2390625\"/>\n",
       "      </g>\n",
       "     </g>\n",
       "     <g id=\"text_7\">\n",
       "      <!-- 0.000000 -->\n",
       "      <defs>\n",
       "       <path d=\"M 10.6875 12.40625 \n",
       "L 21 12.40625 \n",
       "L 21 0 \n",
       "L 10.6875 0 \n",
       "z\n",
       "\" id=\"BitstreamVeraSans-Roman-2e\"/>\n",
       "      </defs>\n",
       "      <g style=\"fill:#555555;\" transform=\"translate(7.2 237.9984375)scale(0.1 -0.1)\">\n",
       "       <use xlink:href=\"#BitstreamVeraSans-Roman-30\"/>\n",
       "       <use x=\"63.623046875\" xlink:href=\"#BitstreamVeraSans-Roman-2e\"/>\n",
       "       <use x=\"95.41015625\" xlink:href=\"#BitstreamVeraSans-Roman-30\"/>\n",
       "       <use x=\"159.033203125\" xlink:href=\"#BitstreamVeraSans-Roman-30\"/>\n",
       "       <use x=\"222.65625\" xlink:href=\"#BitstreamVeraSans-Roman-30\"/>\n",
       "       <use x=\"286.279296875\" xlink:href=\"#BitstreamVeraSans-Roman-30\"/>\n",
       "       <use x=\"349.90234375\" xlink:href=\"#BitstreamVeraSans-Roman-30\"/>\n",
       "       <use x=\"413.525390625\" xlink:href=\"#BitstreamVeraSans-Roman-30\"/>\n",
       "      </g>\n",
       "     </g>\n",
       "    </g>\n",
       "    <g id=\"ytick_2\">\n",
       "     <g id=\"line2d_22\">\n",
       "      <path clip-path=\"url(#p1b1be9e1a8)\" d=\"M 62.915625 179.439062 \n",
       "L 397.715625 179.439062 \n",
       "\" style=\"fill:none;stroke:#ffffff;stroke-linecap:square;stroke-width:0.5;\"/>\n",
       "     </g>\n",
       "     <g id=\"line2d_23\">\n",
       "      <g>\n",
       "       <use style=\"fill:#555555;stroke:#555555;stroke-width:0.5;\" x=\"62.915625\" xlink:href=\"#m1e38f7791e\" y=\"179.4390625\"/>\n",
       "      </g>\n",
       "     </g>\n",
       "     <g id=\"line2d_24\">\n",
       "      <g>\n",
       "       <use style=\"fill:#555555;stroke:#555555;stroke-width:0.5;\" x=\"397.715625\" xlink:href=\"#mf2449d2c50\" y=\"179.4390625\"/>\n",
       "      </g>\n",
       "     </g>\n",
       "     <g id=\"text_8\">\n",
       "      <!-- 0.000005 -->\n",
       "      <g style=\"fill:#555555;\" transform=\"translate(7.2 182.1984375)scale(0.1 -0.1)\">\n",
       "       <use xlink:href=\"#BitstreamVeraSans-Roman-30\"/>\n",
       "       <use x=\"63.623046875\" xlink:href=\"#BitstreamVeraSans-Roman-2e\"/>\n",
       "       <use x=\"95.41015625\" xlink:href=\"#BitstreamVeraSans-Roman-30\"/>\n",
       "       <use x=\"159.033203125\" xlink:href=\"#BitstreamVeraSans-Roman-30\"/>\n",
       "       <use x=\"222.65625\" xlink:href=\"#BitstreamVeraSans-Roman-30\"/>\n",
       "       <use x=\"286.279296875\" xlink:href=\"#BitstreamVeraSans-Roman-30\"/>\n",
       "       <use x=\"349.90234375\" xlink:href=\"#BitstreamVeraSans-Roman-30\"/>\n",
       "       <use x=\"413.525390625\" xlink:href=\"#BitstreamVeraSans-Roman-35\"/>\n",
       "      </g>\n",
       "     </g>\n",
       "    </g>\n",
       "    <g id=\"ytick_3\">\n",
       "     <g id=\"line2d_25\">\n",
       "      <path clip-path=\"url(#p1b1be9e1a8)\" d=\"M 62.915625 123.639062 \n",
       "L 397.715625 123.639062 \n",
       "\" style=\"fill:none;stroke:#ffffff;stroke-linecap:square;stroke-width:0.5;\"/>\n",
       "     </g>\n",
       "     <g id=\"line2d_26\">\n",
       "      <g>\n",
       "       <use style=\"fill:#555555;stroke:#555555;stroke-width:0.5;\" x=\"62.915625\" xlink:href=\"#m1e38f7791e\" y=\"123.6390625\"/>\n",
       "      </g>\n",
       "     </g>\n",
       "     <g id=\"line2d_27\">\n",
       "      <g>\n",
       "       <use style=\"fill:#555555;stroke:#555555;stroke-width:0.5;\" x=\"397.715625\" xlink:href=\"#mf2449d2c50\" y=\"123.6390625\"/>\n",
       "      </g>\n",
       "     </g>\n",
       "     <g id=\"text_9\">\n",
       "      <!-- 0.000010 -->\n",
       "      <g style=\"fill:#555555;\" transform=\"translate(7.2 126.3984375)scale(0.1 -0.1)\">\n",
       "       <use xlink:href=\"#BitstreamVeraSans-Roman-30\"/>\n",
       "       <use x=\"63.623046875\" xlink:href=\"#BitstreamVeraSans-Roman-2e\"/>\n",
       "       <use x=\"95.41015625\" xlink:href=\"#BitstreamVeraSans-Roman-30\"/>\n",
       "       <use x=\"159.033203125\" xlink:href=\"#BitstreamVeraSans-Roman-30\"/>\n",
       "       <use x=\"222.65625\" xlink:href=\"#BitstreamVeraSans-Roman-30\"/>\n",
       "       <use x=\"286.279296875\" xlink:href=\"#BitstreamVeraSans-Roman-30\"/>\n",
       "       <use x=\"349.90234375\" xlink:href=\"#BitstreamVeraSans-Roman-31\"/>\n",
       "       <use x=\"413.525390625\" xlink:href=\"#BitstreamVeraSans-Roman-30\"/>\n",
       "      </g>\n",
       "     </g>\n",
       "    </g>\n",
       "    <g id=\"ytick_4\">\n",
       "     <g id=\"line2d_28\">\n",
       "      <path clip-path=\"url(#p1b1be9e1a8)\" d=\"M 62.915625 67.839062 \n",
       "L 397.715625 67.839062 \n",
       "\" style=\"fill:none;stroke:#ffffff;stroke-linecap:square;stroke-width:0.5;\"/>\n",
       "     </g>\n",
       "     <g id=\"line2d_29\">\n",
       "      <g>\n",
       "       <use style=\"fill:#555555;stroke:#555555;stroke-width:0.5;\" x=\"62.915625\" xlink:href=\"#m1e38f7791e\" y=\"67.8390625\"/>\n",
       "      </g>\n",
       "     </g>\n",
       "     <g id=\"line2d_30\">\n",
       "      <g>\n",
       "       <use style=\"fill:#555555;stroke:#555555;stroke-width:0.5;\" x=\"397.715625\" xlink:href=\"#mf2449d2c50\" y=\"67.8390625\"/>\n",
       "      </g>\n",
       "     </g>\n",
       "     <g id=\"text_10\">\n",
       "      <!-- 0.000015 -->\n",
       "      <g style=\"fill:#555555;\" transform=\"translate(7.2 70.5984375)scale(0.1 -0.1)\">\n",
       "       <use xlink:href=\"#BitstreamVeraSans-Roman-30\"/>\n",
       "       <use x=\"63.623046875\" xlink:href=\"#BitstreamVeraSans-Roman-2e\"/>\n",
       "       <use x=\"95.41015625\" xlink:href=\"#BitstreamVeraSans-Roman-30\"/>\n",
       "       <use x=\"159.033203125\" xlink:href=\"#BitstreamVeraSans-Roman-30\"/>\n",
       "       <use x=\"222.65625\" xlink:href=\"#BitstreamVeraSans-Roman-30\"/>\n",
       "       <use x=\"286.279296875\" xlink:href=\"#BitstreamVeraSans-Roman-30\"/>\n",
       "       <use x=\"349.90234375\" xlink:href=\"#BitstreamVeraSans-Roman-31\"/>\n",
       "       <use x=\"413.525390625\" xlink:href=\"#BitstreamVeraSans-Roman-35\"/>\n",
       "      </g>\n",
       "     </g>\n",
       "    </g>\n",
       "    <g id=\"ytick_5\">\n",
       "     <g id=\"line2d_31\">\n",
       "      <path clip-path=\"url(#p1b1be9e1a8)\" d=\"M 62.915625 12.039062 \n",
       "L 397.715625 12.039062 \n",
       "\" style=\"fill:none;stroke:#ffffff;stroke-linecap:square;stroke-width:0.5;\"/>\n",
       "     </g>\n",
       "     <g id=\"line2d_32\">\n",
       "      <g>\n",
       "       <use style=\"fill:#555555;stroke:#555555;stroke-width:0.5;\" x=\"62.915625\" xlink:href=\"#m1e38f7791e\" y=\"12.0390625\"/>\n",
       "      </g>\n",
       "     </g>\n",
       "     <g id=\"line2d_33\">\n",
       "      <g>\n",
       "       <use style=\"fill:#555555;stroke:#555555;stroke-width:0.5;\" x=\"397.715625\" xlink:href=\"#mf2449d2c50\" y=\"12.0390625\"/>\n",
       "      </g>\n",
       "     </g>\n",
       "     <g id=\"text_11\">\n",
       "      <!-- 0.000020 -->\n",
       "      <g style=\"fill:#555555;\" transform=\"translate(7.2 14.7984375)scale(0.1 -0.1)\">\n",
       "       <use xlink:href=\"#BitstreamVeraSans-Roman-30\"/>\n",
       "       <use x=\"63.623046875\" xlink:href=\"#BitstreamVeraSans-Roman-2e\"/>\n",
       "       <use x=\"95.41015625\" xlink:href=\"#BitstreamVeraSans-Roman-30\"/>\n",
       "       <use x=\"159.033203125\" xlink:href=\"#BitstreamVeraSans-Roman-30\"/>\n",
       "       <use x=\"222.65625\" xlink:href=\"#BitstreamVeraSans-Roman-30\"/>\n",
       "       <use x=\"286.279296875\" xlink:href=\"#BitstreamVeraSans-Roman-30\"/>\n",
       "       <use x=\"349.90234375\" xlink:href=\"#BitstreamVeraSans-Roman-32\"/>\n",
       "       <use x=\"413.525390625\" xlink:href=\"#BitstreamVeraSans-Roman-30\"/>\n",
       "      </g>\n",
       "     </g>\n",
       "    </g>\n",
       "   </g>\n",
       "   <g id=\"line2d_34\">\n",
       "    <path clip-path=\"url(#p1b1be9e1a8)\" d=\"M 62.915625 235.239062 \n",
       "L 69.748278 111.863198 \n",
       "L 76.580931 47.270666 \n",
       "L 83.413584 20.455656 \n",
       "L 90.246237 17.084604 \n",
       "L 97.07889 27.509294 \n",
       "L 103.911543 45.347961 \n",
       "L 110.744196 66.47653 \n",
       "L 117.576849 88.315107 \n",
       "L 124.409503 109.326296 \n",
       "L 131.242156 128.66491 \n",
       "L 138.074809 145.935414 \n",
       "L 144.907462 161.025651 \n",
       "L 151.740115 173.994275 \n",
       "L 158.572768 184.995729 \n",
       "L 165.405421 194.231279 \n",
       "L 172.238074 201.917938 \n",
       "L 179.070727 208.269542 \n",
       "L 185.90338 213.485948 \n",
       "L 192.736033 217.747558 \n",
       "L 199.568686 221.213245 \n",
       "L 206.401339 224.020373 \n",
       "L 213.233992 226.28603 \n",
       "L 220.066645 228.108892 \n",
       "L 226.899298 229.571348 \n",
       "L 233.731952 230.741664 \n",
       "L 240.564605 231.676034 \n",
       "L 247.397258 232.420456 \n",
       "L 254.229911 233.012406 \n",
       "L 261.062564 233.482281 \n",
       "L 267.895217 233.854649 \n",
       "L 274.72787 234.149303 \n",
       "L 281.560523 234.382136 \n",
       "L 288.393176 234.565881 \n",
       "L 295.225829 234.710712 \n",
       "L 302.058482 234.824743 \n",
       "L 308.891135 234.914428 \n",
       "L 315.723788 234.984896 \n",
       "L 322.556441 235.040213 \n",
       "L 329.389094 235.083598 \n",
       "L 336.221747 235.117598 \n",
       "L 343.054401 235.144221 \n",
       "L 349.887054 235.165053 \n",
       "L 356.719707 235.181342 \n",
       "L 363.55236 235.19407 \n",
       "L 370.385013 235.204009 \n",
       "L 377.217666 235.211767 \n",
       "L 384.050319 235.217817 \n",
       "L 390.882972 235.222534 \n",
       "L 397.715625 235.226209 \n",
       "\" style=\"fill:none;stroke:#e24a33;stroke-linecap:square;\"/>\n",
       "   </g>\n",
       "   <g id=\"patch_3\">\n",
       "    <path d=\"M 62.915625 12.039062 \n",
       "L 397.715625 12.039062 \n",
       "\" style=\"fill:none;stroke:#ffffff;stroke-linecap:square;stroke-linejoin:miter;\"/>\n",
       "   </g>\n",
       "   <g id=\"patch_4\">\n",
       "    <path d=\"M 397.715625 235.239062 \n",
       "L 397.715625 12.039062 \n",
       "\" style=\"fill:none;stroke:#ffffff;stroke-linecap:square;stroke-linejoin:miter;\"/>\n",
       "   </g>\n",
       "   <g id=\"patch_5\">\n",
       "    <path d=\"M 62.915625 235.239062 \n",
       "L 397.715625 235.239062 \n",
       "\" style=\"fill:none;stroke:#ffffff;stroke-linecap:square;stroke-linejoin:miter;\"/>\n",
       "   </g>\n",
       "   <g id=\"patch_6\">\n",
       "    <path d=\"M 62.915625 235.239062 \n",
       "L 62.915625 12.039062 \n",
       "\" style=\"fill:none;stroke:#ffffff;stroke-linecap:square;stroke-linejoin:miter;\"/>\n",
       "   </g>\n",
       "  </g>\n",
       " </g>\n",
       " <defs>\n",
       "  <clipPath id=\"p1b1be9e1a8\">\n",
       "   <rect height=\"223.2\" width=\"334.8\" x=\"62.915625\" y=\"12.0390625\"/>\n",
       "  </clipPath>\n",
       " </defs>\n",
       "</svg>\n"
      ],
      "text/plain": [
       "<matplotlib.figure.Figure at 0x10a08dc50>"
      ]
     },
     "metadata": {},
     "output_type": "display_data"
    }
   ],
   "source": [
    "d = 250000\n",
    "beta = 0.075 * d\n",
    "alpha = 0.15 * d / beta\n",
    "loc = 0\n",
    "\n",
    "from scipy.stats import gamma\n",
    "import numpy as np\n",
    "\n",
    "rv = gamma(a=alpha, loc=loc, scale=beta)\n",
    "x = np.linspace(0, d)\n",
    "plt.plot(x, rv.pdf(x))\n",
    "plt.show()"
   ]
  },
  {
   "cell_type": "markdown",
   "metadata": {},
   "source": [
    "This function upweights words that appear not so frequently, but downweights words that appear very rarely (along with words that appear frequently). The results turned out to be very reasonable for the WSJ corpus. Top words include \"bonds\", \"index\", \"japanese\", \"oil\", \"traders\".\n",
    "\n",
    "This result should not be surprising given that TF-IDF is a measure meant for weighting words in a single document among many documents, not an aggregate measure across documents.\n",
    "\n",
    "This allows us to select $\\mathbf{x}$ by taking the top $|\\mathbf{x}| = 100$ words using $\\mathbf{\\mathrm{Rank}}$."
   ]
  },
  {
   "cell_type": "markdown",
   "metadata": {},
   "source": [
    "## Generate Substitution Key\n",
    "\n",
    "Now that we have $\\mathbf{x}$ we want to generate a set $\\mathbf{y}$ permuted version of $\\mathbf{x}$ such that $y_i = x_j | j \\neq i$ ie. each word in $\\mathbf{y}$ maps to a random word in $\\mathbf{x}$ that is not the same as itself. This is rather trivial, and we save the key in a pickle and a `.json` so that we can read it easily. We also present the substituted dictionary in the output below."
   ]
  },
  {
   "cell_type": "code",
   "execution_count": null,
   "metadata": {
    "collapsed": false
   },
   "outputs": [],
   "source": [
    "from lib.substitute import *\n",
    "\n",
    "substitute_key = generate_substitute_key(all_lines)\n",
    "pickle.dump(substitute_key, open('substitute-key.pkl', 'wb'))\n",
    "import simplejson\n",
    "f = open('substitute-key.json', 'wb')\n",
    "simplejson.dump(substitute_key, f)\n",
    "f.close()\n",
    "\n",
    "print(substitute_key)"
   ]
  },
  {
   "cell_type": "markdown",
   "metadata": {},
   "source": [
    "## Codeword Corpus Generation\n",
    "\n",
    "Now we can generate a codeword corpus by going through the reference corpus and replacing every occurence of word $x_i$ with $y_i$. We retain the original reference corpus and save both in pickles."
   ]
  },
  {
   "cell_type": "code",
   "execution_count": null,
   "metadata": {
    "collapsed": true
   },
   "outputs": [],
   "source": [
    "all_lines_substituted = generate_substitute_corpus(all_lines, substitute_key)\n",
    "pickle.dump(all_lines_substituted, open('corpus-substituted.pkl', 'wb'))\n",
    "pickle.dump(all_lines, open('corpus-original.pkl', 'wb'))"
   ]
  },
  {
   "cell_type": "markdown",
   "metadata": {},
   "source": [
    "# Verification of Baseline Codeword Detection\n",
    "\n",
    "## Generate Embeddings\n",
    "\n",
    "Now we run both corpuses over `word2vec`. The code below by default reads in the models from storage. This is because I usually run the training on a computer other than my own, and usually on two different computers. However, if you decide to torture your computer, feel free to take around 12 hours on this step (based on the default parameters in `w2v.w2v`). The default parameters used are `model = gensim.models.Word2Vec(sentences, min_count=5, workers=8, iter=300, window=15, size=300, negative=25)` as recommended by Jasneet."
   ]
  },
  {
   "cell_type": "code",
   "execution_count": 2,
   "metadata": {
    "collapsed": false
   },
   "outputs": [],
   "source": [
    "from w2v.w2v import *\n",
    "\n",
    "# all_lines_original = build_sentences(all_lines_original_filename)\n",
    "# all_lines_substituted = build_sentences(all_lines_substituted_filename)\n",
    "#\n",
    "# original_model = model_from_sentences(all_lines_original)\n",
    "# substituted_model = model_from_sentences(all_lines_substituted)\n",
    "#\n",
    "# original_model.save_word2vec_format('./models/corpus-original-w2v.mdl', binary=True)\n",
    "# substituted_model.save_word2vec_format('./models/corpus-substituted-w2v.mdl', binary=True)\n",
    "\n",
    "original_model = model_from_saved(\"./models/corpus-original-w2v.mdl\", binary=True)\n",
    "substituted_model = model_from_saved(\"./models/corpus-substituted-w2v.mdl\", binary=True)\n",
    "\n",
    "substitute_key = pickle.load(open('substitute-key.pkl', 'rb'))"
   ]
  },
  {
   "cell_type": "markdown",
   "metadata": {},
   "source": [
    "## Finding Common Words\n",
    "\n",
    "Then we find the common words in both corpuses. Since we are using a synthetic dataset, and there is always a one to one matching between $\\mathbf{x}$ and $\\mathbf{y}$, the two corpuses should contain the same vocabularies. However, this won't always be the case in actual situations."
   ]
  },
  {
   "cell_type": "code",
   "execution_count": 3,
   "metadata": {
    "collapsed": true
   },
   "outputs": [],
   "source": [
    "from comparison.similarity import *\n",
    "intersect_vocab = set(substituted_model.vocab).intersection(set(original_model.vocab))"
   ]
  },
  {
   "cell_type": "markdown",
   "metadata": {},
   "source": [
    "## Detecting Codewords\n",
    "\n",
    "We detect codewords by measuring, from the two corpuses, what a word is similar to. \n",
    "\n",
    "- For each word $w_i$, we find $\\mathbf{z}_{w_i, x, n}$, the top $n$ words that are similar to $w_i$ as predicted by `word2vec` in gensim's `most_similar` method using the **reference corpus**\n",
    "- For that same word $w_i$ we find $\\mathbf{z}_{w_i, y, n}$ the top $n$ words that are similar to $w_i$ as predicted by the same method but using the **codeword corpus**\n",
    "- We find $\\mathbf{S}$, the intersection of $\\mathbf{z}_{w_i, x, n}$ and $\\mathbf{z}_{w_i, y, n}$. In other words, every word in $S_i \\in \\mathbf{S}$ is defined by $S_i \\in \\{\\mathbf{z}_{w_i, x, n} \\cap \\mathbf{z}_{w_i, y, n}\\}$.\n",
    "- We record the length of the intersection, $|\\mathbf{S}|$, for each word $w_i$."
   ]
  },
  {
   "cell_type": "code",
   "execution_count": 4,
   "metadata": {
    "collapsed": true
   },
   "outputs": [],
   "source": [
    "vocabs = generate_similarity_counts(original_model, substituted_model, intersect_vocab)\n",
    "pickle.dump(vocabs, open('vocabs-compared.pkl', 'wb'))"
   ]
  },
  {
   "cell_type": "markdown",
   "metadata": {},
   "source": [
    "Intuition tells us that codewords are used differently in the codeword corpus than in the reference corpus. In that case $|\\mathbf{S}|$ should be small for codewords and large for non-codewords. Non-codewords are used similarly in both reference corpus and codeword corpus, while codewords are used differently in both corpuses. We can use this to detect codewords."
   ]
  },
  {
   "cell_type": "markdown",
   "metadata": {},
   "source": [
    "# Results\n",
    "\n",
    "## Codeword Isolation\n",
    "\n",
    "We find that we were able to isolate words that have few similarity intersection counts. The distribution of similarity intersection counts across all words look normal with the exception of a cluster of codewords at the left tail. "
   ]
  },
  {
   "cell_type": "code",
   "execution_count": 5,
   "metadata": {
    "collapsed": false
   },
   "outputs": [
    {
     "data": {
      "image/png": "[encoded data removed]",
      "text/plain": [
       "<matplotlib.figure.Figure at 0x10ea08990>"
      ]
     },
     "metadata": {},
     "output_type": "display_data"
    }
   ],
   "source": [
    "# plot results\n",
    "codewords = sorted(vocabs, key=vocabs.get)\n",
    "positive = 0\n",
    "false_positive = 0\n",
    "count = 1\n",
    "results = {}\n",
    "\n",
    "for word in codewords:\n",
    "    if word in substitute_key:\n",
    "        positive += 1\n",
    "    else:\n",
    "        false_positive += 1\n",
    "    results[count] = {'count': count, 'positive': positive, 'false_positive': false_positive, 'false_negative': len(substitute_key) - positive}\n",
    "    count += 1\n",
    "\n",
    "import pandas as pd\n",
    "import matplotlib\n",
    "import matplotlib.pyplot as plot\n",
    "matplotlib.style.use('ggplot')\n",
    "\n",
    "# distribution of comparison counts\n",
    "plot.hist(vocabs.values(), bins=100)\n",
    "plot.show()"
   ]
  },
  {
   "cell_type": "markdown",
   "metadata": {},
   "source": [
    "We can check that the cluster of words at the left tail are indeed codewords. We first sort the all words by similarity count in ascending order. The words with fewest similarity counts will be at the front.\n",
    "\n",
    "Then, we iterate through the words and record (for every count)\n",
    "\n",
    "- `positive`: number of actual codewords correctly identified\n",
    "- `false_positive`: number of words wrongly classified as codeword\n",
    "- `false_negative`: number of actual codewords that were not detected"
   ]
  },
  {
   "cell_type": "code",
   "execution_count": 6,
   "metadata": {
    "collapsed": false
   },
   "outputs": [
    {
     "data": {
      "image/png": "[encoded data removed]",
      "text/plain": [
       "<matplotlib.figure.Figure at 0x10eab4a50>"
      ]
     },
     "metadata": {},
     "output_type": "display_data"
    }
   ],
   "source": [
    "# plot results\n",
    "dataframe = pd.DataFrame.from_dict(results, orient='index')\n",
    "dataframe.plot(x='count', y=['positive', 'false_positive', 'false_negative'], xlim=[0, 200], ylim=[0, 100])\n",
    "plot.show()"
   ]
  },
  {
   "cell_type": "markdown",
   "metadata": {},
   "source": [
    "As we increase the counts. We find that at a count of around 100, we have a very high positive rate with a very low false positive and false negative rate. Even lower false positive rates can be achieved by sacrifising some false negative rates."
   ]
  },
  {
   "cell_type": "code",
   "execution_count": 7,
   "metadata": {
    "collapsed": false
   },
   "outputs": [
    {
     "name": "stdout",
     "output_type": "stream",
     "text": [
      "positive: 99\n",
      "false positive: 1\n",
      "false negative: 1\n"
     ]
    }
   ],
   "source": [
    "threshold = 100\n",
    "positive = 0\n",
    "false_positive = 0\n",
    "count = 1\n",
    "\n",
    "for word in codewords:\n",
    "    if word in substitute_key:\n",
    "        positive += 1\n",
    "    else:\n",
    "        false_positive += 1\n",
    "    count += 1\n",
    "    \n",
    "    if count > 100:\n",
    "        break\n",
    "\n",
    "print('positive: %d\\nfalse positive: %d\\nfalse negative: %d' % (positive, false_positive, len(substitute_key) - positive))"
   ]
  },
  {
   "cell_type": "markdown",
   "metadata": {},
   "source": [
    "## Codeword Recovery\n",
    "\n",
    "It is also meaningful to see if we can successfully recover the original words given the codewords. That is, given $\\mathbf{y}$ and $\\mathbf{x}$, can we successfully produce a function that matches each $y_i$ to each $x_i$."
   ]
  },
  {
   "cell_type": "code",
   "execution_count": 8,
   "metadata": {
    "collapsed": true
   },
   "outputs": [],
   "source": [
    "def check_substitution(substituted_model, original_model, substituted_word, original_word, n):\n",
    "    similar_substituted = set((word[0]) for word in substituted_model.most_similar(substituted_word, topn=n))\n",
    "    similar_original = set((word[0]) for word in original_model.most_similar(original_word, topn=n))\n",
    "    intersection = similar_substituted & similar_original\n",
    "    return len(intersection)"
   ]
  },
  {
   "cell_type": "markdown",
   "metadata": {},
   "source": [
    "We remind the reader that the this was the original substitution key. This means, for example, that the word `stake` in $\\mathbf{x}$ has been replaced by the word `credit` in $\\mathbf{y}$."
   ]
  },
  {
   "cell_type": "code",
   "execution_count": 9,
   "metadata": {
    "collapsed": false
   },
   "outputs": [
    {
     "name": "stdout",
     "output_type": "stream",
     "text": [
      "{u'stake': u'credit', u'office': u'california', u'show': u'state', u'september': u'chicago', u'dollar': u'drop', u'trade': u'8', u'london': u'system', u'committee': u'home', u'japan': u'takeover', u'issues': u'association', u'cut': u'country', u'system': u'him', u'former': u'san', u'bush': u'dow', u'production': u'union', u'systems': u'point', u'treasury': u'index', u'policy': u'economic', u'8': u'foreign', u'street': u'bill', u'bonds': u'show', u'bid': u'monday', u'him': u'dollar', u'association': u'fiscal', u'notes': u'debt', u'drop': u'administration', u'she': u'funds', u'house': u'production', u'japanese': u'offering', u'computer': u'tax', u'home': u'west', u'insurance': u'traders', u'index': u'computer', u'monday': u'agency', u'chicago': u'rates', u'research': u'notes', u'state': u'fund', u'firms': u'former', u'issue': u'court', u'august': u'life', u'power': u'demand', u'city': u'my', u'friday': u'bid', u'takeover': u'volume', u'california': u'program', u'news': u'she', u'debt': u'bush', u'loans': u'news', u'country': u'issues', u'losses': u'august', u'british': u'congress', u'foreign': u'case', u'credit': u'decline', u'economic': u'oil', u'industrial': u'power', u'point': u'losses', u'wall': u'research', u'third-quarter': u'economy', u'decline': u'japanese', u'law': u'assets', u'her': u'friday', u'union': u'systems', u'west': u'issue', u'due': u'committee', u'program': u'firms', u'rates': u'london', u'fiscal': u'annual', u'life': u'growth', u'selling': u'third-quarter', u'offering': u'due', u'funds': u'treasury', u'volume': u'points', u'fund': u'buying', u'gain': u'banks', u'demand': u'nov.', u'analyst': u'wall', u'buying': u'analyst', u'case': u'contract', u'nov.': u'trade', u'bill': u'japan', u'growth': u'stocks', u'my': u'selling', u'annual': u'british', u'san': u'gain', u'tax': u'cut', u'contract': u'loans', u'court': u'stake', u'agency': u'september', u'administration': u'bonds', u'traders': u'city', u'department': u'house', u'economy': u'office', u'oil': u'street', u'congress': u'her', u'stocks': u'law', u'jones': u'department', u'assets': u'industrial', u'points': u'insurance', u'banks': u'policy', u'dow': u'jones'}\n"
     ]
    }
   ],
   "source": [
    "print(substitute_key)"
   ]
  },
  {
   "cell_type": "markdown",
   "metadata": {},
   "source": [
    "This means that among the vocabulary in $\\mathbf{x}$ and $\\mathbf{y}$, the ones that should produce the most similarities are the original substitutions. For example, since `credit` was substituted with `stake`, this pair should have many matches out of 500 words.\n",
    "\n",
    "Contrast this with `credit` and `california`, which is not an original codeword pair and hence won't have as high a number of matches.\n",
    "\n",
    "We can exploit this to recover the original codewords."
   ]
  },
  {
   "cell_type": "code",
   "execution_count": 10,
   "metadata": {
    "collapsed": false
   },
   "outputs": [
    {
     "data": {
      "text/plain": [
       "385"
      ]
     },
     "execution_count": 10,
     "metadata": {},
     "output_type": "execute_result"
    }
   ],
   "source": [
    "check_substitution(substituted_model, original_model, 'credit', 'stake', 500)"
   ]
  },
  {
   "cell_type": "code",
   "execution_count": 11,
   "metadata": {
    "collapsed": false
   },
   "outputs": [
    {
     "data": {
      "text/plain": [
       "31"
      ]
     },
     "execution_count": 11,
     "metadata": {},
     "output_type": "execute_result"
    }
   ],
   "source": [
    "check_substitution(substituted_model, original_model, 'credit', 'california', 500)"
   ]
  },
  {
   "cell_type": "markdown",
   "metadata": {},
   "source": [
    "We produce a `substitution_recovered` that is the same format as the original `substitute_key`, but recovered without knowledge of the `substitute_key`."
   ]
  },
  {
   "cell_type": "code",
   "execution_count": 14,
   "metadata": {
    "collapsed": false
   },
   "outputs": [
    {
     "name": "stdout",
     "output_type": "stream",
     "text": [
      "{u'stake': u'credit', u'office': u'california', u'show': u'state', u'september': u'chicago', u'dollar': u'drop', u'trade': u'8', u'london': u'system', u'committee': u'home', u'japan': u'takeover', u'issues': u'association', u'cut': u'country', u'analyst': u'wall', u'bush': u'dow', u'program': u'firms', u'systems': u'point', u'treasury': u'index', u'policy': u'economic', u'8': u'foreign', u'bonds': u'show', u'bid': u'monday', u'him': u'dollar', u'association': u'fiscal', u'notes': u'debt', u'drop': u'administration', u'she': u'funds', u'house': u'production', u'japanese': u'offering', u'street': u'bill', u'home': u'west', u'insurance': u'traders', u'index': u'computer', u'congress': u'her', u'chicago': u'rates', u'research': u'notes', u'state': u'fund', u'firms': u'former', u'issue': u'court', u'disgruntled': u'credit', u'august': u'life', u'power': u'demand', u'city': u'my', u'friday': u'bid', u'takeover': u'volume', u'california': u'program', u'news': u'she', u'debt': u'bush', u'loans': u'news', u'country': u'issues', u'losses': u'august', u'british': u'congress', u'foreign': u'case', u'credit': u'decline', u'economic': u'oil', u'due': u'committee', u'industrial': u'power', u'point': u'losses', u'wall': u'research', u'system': u'him', u'decline': u'japanese', u'law': u'assets', u'her': u'friday', u'union': u'systems', u'west': u'issue', u'third-quarter': u'economy', u'production': u'union', u'rates': u'london', u'life': u'growth', u'selling': u'third-quarter', u'growth': u'stocks', u'offering': u'due', u'funds': u'treasury', u'volume': u'points', u'fund': u'buying', u'gain': u'banks', u'demand': u'nov.', u'former': u'san', u'buying': u'analyst', u'case': u'contract', u'nov.': u'trade', u'bill': u'japan', u'computer': u'tax', u'my': u'selling', u'annual': u'british', u'san': u'gain', u'tax': u'cut', u'contract': u'loans', u'court': u'stake', u'agency': u'september', u'administration': u'bonds', u'traders': u'city', u'department': u'house', u'economy': u'office', u'oil': u'street', u'monday': u'agency', u'stocks': u'law', u'fiscal': u'annual', u'assets': u'industrial', u'points': u'insurance', u'banks': u'policy', u'dow': u'jones'}\n"
     ]
    }
   ],
   "source": [
    "codeword_count = len(substitute_key)\n",
    "\n",
    "substitution_recovered = {}\n",
    "\n",
    "for original_word in codewords[:codeword_count]:    \n",
    "    max_count = 0\n",
    "    max_substitute = \"\"\n",
    "    for substitute_word in substitute_key.keys():\n",
    "        \n",
    "        count = check_substitution(substituted_model, original_model, substitute_word, original_word, 500)\n",
    "        if(count > max_count):\n",
    "            max_count = count\n",
    "            max_substitute = substitute_word\n",
    "    \n",
    "    substitution_recovered[original_word] = max_substitute\n",
    "\n",
    "print(substitution_recovered)"
   ]
  },
  {
   "cell_type": "markdown",
   "metadata": {},
   "source": [
    "Turns out we were able to reproduce the matching between the codewords and the original words very successfully."
   ]
  },
  {
   "cell_type": "code",
   "execution_count": 15,
   "metadata": {
    "collapsed": false
   },
   "outputs": [
    {
     "data": {
      "text/plain": [
       "99"
      ]
     },
     "execution_count": 15,
     "metadata": {},
     "output_type": "execute_result"
    }
   ],
   "source": [
    "# precision = number of correct pairings out of constructed pairings\n",
    "\n",
    "precision = 0\n",
    "for original, substitute in substitution_recovered.iteritems():\n",
    "    if original in substitute_key and substitute == substitute_key[original]:\n",
    "        precision += 1\n",
    "\n",
    "precision"
   ]
  },
  {
   "cell_type": "code",
   "execution_count": 16,
   "metadata": {
    "collapsed": false
   },
   "outputs": [
    {
     "data": {
      "text/plain": [
       "99"
      ]
     },
     "execution_count": 16,
     "metadata": {},
     "output_type": "execute_result"
    }
   ],
   "source": [
    "# recall = number of correct pairings out of original pairings\n",
    "\n",
    "recall = 0\n",
    "for original, substitute in substitute_key.iteritems():\n",
    "    if original in substitution_recovered and substitute == substitution_recovered[original]:\n",
    "        recall += 1\n",
    "        \n",
    "recall"
   ]
  }
 ],
 "metadata": {
  "kernelspec": {
   "display_name": "Python 2",
   "language": "python",
   "name": "python2"
  },
  "language_info": {
   "codemirror_mode": {
    "name": "ipython",
    "version": 2
   },
   "file_extension": ".py",
   "mimetype": "text/x-python",
   "name": "python",
   "nbconvert_exporter": "python",
   "pygments_lexer": "ipython2",
   "version": "2.7.9"
  }
 },
 "nbformat": 4,
 "nbformat_minor": 0
}
